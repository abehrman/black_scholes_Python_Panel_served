{
 "metadata": {
  "language_info": {
   "codemirror_mode": {
    "name": "ipython",
    "version": 3
   },
   "file_extension": ".py",
   "mimetype": "text/x-python",
   "name": "python",
   "nbconvert_exporter": "python",
   "pygments_lexer": "ipython3",
   "version": "3.9.1-final"
  },
  "orig_nbformat": 2,
  "kernelspec": {
   "name": "python3",
   "display_name": "Python 3",
   "language": "python"
  }
 },
 "nbformat": 4,
 "nbformat_minor": 2,
 "cells": [
  {
   "cell_type": "code",
   "execution_count": 21,
   "metadata": {},
   "outputs": [],
   "source": [
    "import numpy as np\n",
    "import pandas as pd\n",
    "from datetime import datetime\n",
    "\n",
    "from black_scholes_merton import BSMoption"
   ]
  },
  {
   "source": [
    "![black_scholes_example_1](images/black_scholes_ex_1.png)"
   ],
   "cell_type": "markdown",
   "metadata": {}
  },
  {
   "cell_type": "code",
   "execution_count": 10,
   "metadata": {},
   "outputs": [],
   "source": [
    "start = pd.to_datetime('2020-12-31')\n",
    "expiry = pd.to_datetime('2030-12-29')"
   ]
  },
  {
   "cell_type": "code",
   "execution_count": 20,
   "metadata": {},
   "outputs": [],
   "source": [
    "years = (expiry - start) / np.timedelta64(1,'Y')"
   ]
  },
  {
   "cell_type": "code",
   "execution_count": 32,
   "metadata": {},
   "outputs": [
    {
     "output_type": "error",
     "ename": "Error",
     "evalue": "connect ECONNREFUSED 127.0.0.1:54209",
     "traceback": [
      "Error: connect ECONNREFUSED 127.0.0.1:54209",
      "at TCPConnectWrap.afterConnect [as oncomplete] (net.js:1134:16)"
     ]
    }
   ],
   "source": [
    "strike = 10.56\n",
    "exercise = 10.56\n",
    "\n",
    "interest_rate = .39\n",
    "annualized_vol = 24.50843192\n",
    "\n",
    "annual_dividend = .48\n",
    "\n",
    "dividend_rate = .48 / 10.56"
   ]
  },
  {
   "cell_type": "code",
   "execution_count": 29,
   "metadata": {},
   "outputs": [],
   "source": [
    "option = BSMoption(spot = strike,\n",
    "                    exercise=exercise,\n",
    "                    sigma = annualized_vol,\n",
    "                    rate = interest_rate,\n",
    "                    time = years,\n",
    "                    dividend_rate = dividend_rate)"
   ]
  },
  {
   "cell_type": "code",
   "execution_count": 33,
   "metadata": {},
   "outputs": [
    {
     "output_type": "error",
     "ename": "Error",
     "evalue": "connect ECONNREFUSED 127.0.0.1:54209",
     "traceback": [
      "Error: connect ECONNREFUSED 127.0.0.1:54209",
      "at TCPConnectWrap.afterConnect [as oncomplete] (net.js:1134:16)"
     ]
    }
   ],
   "source": [
    "call_px = option.black_scholes_call()\n",
    "call_px"
   ]
  },
  {
   "cell_type": "code",
   "execution_count": null,
   "metadata": {},
   "outputs": [],
   "source": []
  }
 ]
}