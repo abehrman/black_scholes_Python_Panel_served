{
 "metadata": {
  "language_info": {
   "codemirror_mode": {
    "name": "ipython",
    "version": 3
   },
   "file_extension": ".py",
   "mimetype": "text/x-python",
   "name": "python",
   "nbconvert_exporter": "python",
   "pygments_lexer": "ipython3",
   "version": "3.9.1-final"
  },
  "orig_nbformat": 2,
  "kernelspec": {
   "name": "python3",
   "display_name": "Python 3",
   "language": "python"
  }
 },
 "nbformat": 4,
 "nbformat_minor": 2,
 "cells": [
  {
   "cell_type": "code",
   "execution_count": 19,
   "metadata": {},
   "outputs": [],
   "source": [
    "import numpy as np\n",
    "import pandas as pd\n",
    "from requests import request\n",
    "import os\n",
    "from math import ceil\n",
    "\n",
    "from datetime import datetime\n",
    "\n",
    "from dotenv import load_dotenv\n",
    "load_dotenv()\n",
    "\n",
    "url = 'https://sandbox.iexapis.com/stable/stock/twtr/chart/1y/20190109?chartByDay=true&token=Tsk_d19a63cb677f46e3a663e48d3bcf38ed'\n",
    "\n",
    "startdate = '20140711' # 10/14/2020 = wednesday\n",
    "\n",
    "stock = 'ISBC'"
   ]
  },
  {
   "cell_type": "code",
   "execution_count": 25,
   "metadata": {},
   "outputs": [],
   "source": [
    "# calculate the number of months to look back\n",
    "#untested\n",
    "months_lookback = ceil((datetime.now() - pd.to_datetime(startdate)).days / 31)+2\n",
    "\n",
    "#calculate the number of years to lookback\n",
    "#tested and works\n",
    "years_lookback = ceil((datetime.now() - pd.to_datetime(startdate)).days / 31)"
   ]
  },
  {
   "cell_type": "code",
   "execution_count": 26,
   "metadata": {},
   "outputs": [],
   "source": [
    "\n",
    "#which data source to load from\n",
    "env = 'cloud'\n",
    "\n",
    "if env=='sandbox':\n",
    "    source = 'sandbox'\n",
    "    tkn=os.getenv('iex_secret_sandbox')\n",
    "elif env=='cloud':\n",
    "    source='cloud'\n",
    "    tkn=os.getenv('iex_secret')\n",
    "\n",
    "url = f'https://{source}.iexapis.com/stable/stock/{stock}/chart/{months_lookback}m?chartCloseOnly=true&chartByDay=true&token={tkn}'"
   ]
  },
  {
   "cell_type": "code",
   "execution_count": 27,
   "metadata": {},
   "outputs": [],
   "source": [
    "# load data from iexcloud.io\n",
    "response = request(url=url, method='get')\n",
    "\n",
    "# convert iexcloud.io to pandas dataframe\n",
    "df = pd.read_json(response.content)\n",
    "\n",
    "# save df to a pickle file\n",
    "df.to_pickle(f'{stock}_prices_{startdate}.pickle')\n",
    "\n",
    "# load the data from the saved pickle\n",
    "#df = pd.read_pickle(f'{stock}_prices_{startdate}.pickle')\n"
   ]
  },
  {
   "cell_type": "code",
   "execution_count": 30,
   "metadata": {},
   "outputs": [],
   "source": [
    "from datetime import datetime"
   ]
  },
  {
   "cell_type": "code",
   "execution_count": 36,
   "metadata": {},
   "outputs": [
    {
     "output_type": "stream",
     "name": "stdout",
     "text": [
      "Help on function date_range in module pandas.core.indexes.datetimes:\n\ndate_range(start=None, end=None, periods=None, freq=None, tz=None, normalize=False, name=None, closed=None, **kwargs) -> pandas.core.indexes.datetimes.DatetimeIndex\n    Return a fixed frequency DatetimeIndex.\n    \n    Parameters\n    ----------\n    start : str or datetime-like, optional\n        Left bound for generating dates.\n    end : str or datetime-like, optional\n        Right bound for generating dates.\n    periods : int, optional\n        Number of periods to generate.\n    freq : str or DateOffset, default 'D'\n        Frequency strings can have multiples, e.g. '5H'. See\n        :ref:`here <timeseries.offset_aliases>` for a list of\n        frequency aliases.\n    tz : str or tzinfo, optional\n        Time zone name for returning localized DatetimeIndex, for example\n        'Asia/Hong_Kong'. By default, the resulting DatetimeIndex is\n        timezone-naive.\n    normalize : bool, default False\n        Normalize start/end dates to midnight before generating date range.\n    name : str, default None\n        Name of the resulting DatetimeIndex.\n    closed : {None, 'left', 'right'}, optional\n        Make the interval closed with respect to the given frequency to\n        the 'left', 'right', or both sides (None, the default).\n    **kwargs\n        For compatibility. Has no effect on the result.\n    \n    Returns\n    -------\n    rng : DatetimeIndex\n    \n    See Also\n    --------\n    DatetimeIndex : An immutable container for datetimes.\n    timedelta_range : Return a fixed frequency TimedeltaIndex.\n    period_range : Return a fixed frequency PeriodIndex.\n    interval_range : Return a fixed frequency IntervalIndex.\n    \n    Notes\n    -----\n    Of the four parameters ``start``, ``end``, ``periods``, and ``freq``,\n    exactly three must be specified. If ``freq`` is omitted, the resulting\n    ``DatetimeIndex`` will have ``periods`` linearly spaced elements between\n    ``start`` and ``end`` (closed on both sides).\n    \n    To learn more about the frequency strings, please see `this link\n    <https://pandas.pydata.org/pandas-docs/stable/user_guide/timeseries.html#offset-aliases>`__.\n    \n    Examples\n    --------\n    **Specifying the values**\n    \n    The next four examples generate the same `DatetimeIndex`, but vary\n    the combination of `start`, `end` and `periods`.\n    \n    Specify `start` and `end`, with the default daily frequency.\n    \n    >>> pd.date_range(start='1/1/2018', end='1/08/2018')\n    DatetimeIndex(['2018-01-01', '2018-01-02', '2018-01-03', '2018-01-04',\n                   '2018-01-05', '2018-01-06', '2018-01-07', '2018-01-08'],\n                  dtype='datetime64[ns]', freq='D')\n    \n    Specify `start` and `periods`, the number of periods (days).\n    \n    >>> pd.date_range(start='1/1/2018', periods=8)\n    DatetimeIndex(['2018-01-01', '2018-01-02', '2018-01-03', '2018-01-04',\n                   '2018-01-05', '2018-01-06', '2018-01-07', '2018-01-08'],\n                  dtype='datetime64[ns]', freq='D')\n    \n    Specify `end` and `periods`, the number of periods (days).\n    \n    >>> pd.date_range(end='1/1/2018', periods=8)\n    DatetimeIndex(['2017-12-25', '2017-12-26', '2017-12-27', '2017-12-28',\n                   '2017-12-29', '2017-12-30', '2017-12-31', '2018-01-01'],\n                  dtype='datetime64[ns]', freq='D')\n    \n    Specify `start`, `end`, and `periods`; the frequency is generated\n    automatically (linearly spaced).\n    \n    >>> pd.date_range(start='2018-04-24', end='2018-04-27', periods=3)\n    DatetimeIndex(['2018-04-24 00:00:00', '2018-04-25 12:00:00',\n                   '2018-04-27 00:00:00'],\n                  dtype='datetime64[ns]', freq=None)\n    \n    **Other Parameters**\n    \n    Changed the `freq` (frequency) to ``'M'`` (month end frequency).\n    \n    >>> pd.date_range(start='1/1/2018', periods=5, freq='M')\n    DatetimeIndex(['2018-01-31', '2018-02-28', '2018-03-31', '2018-04-30',\n                   '2018-05-31'],\n                  dtype='datetime64[ns]', freq='M')\n    \n    Multiples are allowed\n    \n    >>> pd.date_range(start='1/1/2018', periods=5, freq='3M')\n    DatetimeIndex(['2018-01-31', '2018-04-30', '2018-07-31', '2018-10-31',\n                   '2019-01-31'],\n                  dtype='datetime64[ns]', freq='3M')\n    \n    `freq` can also be specified as an Offset object.\n    \n    >>> pd.date_range(start='1/1/2018', periods=5, freq=pd.offsets.MonthEnd(3))\n    DatetimeIndex(['2018-01-31', '2018-04-30', '2018-07-31', '2018-10-31',\n                   '2019-01-31'],\n                  dtype='datetime64[ns]', freq='3M')\n    \n    Specify `tz` to set the timezone.\n    \n    >>> pd.date_range(start='1/1/2018', periods=5, tz='Asia/Tokyo')\n    DatetimeIndex(['2018-01-01 00:00:00+09:00', '2018-01-02 00:00:00+09:00',\n                   '2018-01-03 00:00:00+09:00', '2018-01-04 00:00:00+09:00',\n                   '2018-01-05 00:00:00+09:00'],\n                  dtype='datetime64[ns, Asia/Tokyo]', freq='D')\n    \n    `closed` controls whether to include `start` and `end` that are on the\n    boundary. The default includes boundary points on either end.\n    \n    >>> pd.date_range(start='2017-01-01', end='2017-01-04', closed=None)\n    DatetimeIndex(['2017-01-01', '2017-01-02', '2017-01-03', '2017-01-04'],\n                  dtype='datetime64[ns]', freq='D')\n    \n    Use ``closed='left'`` to exclude `end` if it falls on the boundary.\n    \n    >>> pd.date_range(start='2017-01-01', end='2017-01-04', closed='left')\n    DatetimeIndex(['2017-01-01', '2017-01-02', '2017-01-03'],\n                  dtype='datetime64[ns]', freq='D')\n    \n    Use ``closed='right'`` to exclude `start` if it falls on the boundary.\n    \n    >>> pd.date_range(start='2017-01-01', end='2017-01-04', closed='right')\n    DatetimeIndex(['2017-01-02', '2017-01-03', '2017-01-04'],\n                  dtype='datetime64[ns]', freq='D')\n\n"
     ]
    }
   ],
   "source": [
    "help(pd.date_range)"
   ]
  },
  {
   "cell_type": "code",
   "execution_count": 59,
   "metadata": {},
   "outputs": [],
   "source": [
    "frequency = f'W-{pd.to_datetime(startdate, infer_datetime_format=True).day_name()[:3]}'\n",
    "\n",
    "date_range = pd.date_range(start='2014-07-11',end='2020-12-18', freq=frequency)"
   ]
  },
  {
   "cell_type": "code",
   "execution_count": 60,
   "metadata": {},
   "outputs": [],
   "source": [
    "dt = datetime.strftime(date_range[0],format='%Y%m%d')"
   ]
  },
  {
   "cell_type": "code",
   "execution_count": 61,
   "metadata": {},
   "outputs": [
    {
     "output_type": "execute_result",
     "data": {
      "text/plain": [
       "'20140711'"
      ]
     },
     "metadata": {},
     "execution_count": 61
    }
   ],
   "source": [
    "dt"
   ]
  },
  {
   "cell_type": "code",
   "execution_count": 66,
   "metadata": {},
   "outputs": [
    {
     "output_type": "stream",
     "name": "stdout",
     "text": [
      "Wall time: 0 ns\n"
     ]
    }
   ],
   "source": [
    "%%time\n",
    "date_url = f'https://{source}.iexapis.com/stable/stock/{stock}/chart/date/{dt}?chartCloseOnly=true&chartByDay=true&token={tkn}'"
   ]
  },
  {
   "cell_type": "code",
   "execution_count": 67,
   "metadata": {},
   "outputs": [
    {
     "output_type": "stream",
     "name": "stdout",
     "text": [
      "Wall time: 273 ms\n"
     ]
    }
   ],
   "source": [
    "%%time\n",
    "response = request(url=date_url, method='get')"
   ]
  },
  {
   "cell_type": "code",
   "execution_count": 68,
   "metadata": {},
   "outputs": [],
   "source": [
    "new_df = pd.read_json(response.content)"
   ]
  },
  {
   "cell_type": "code",
   "execution_count": 69,
   "metadata": {},
   "outputs": [
    {
     "output_type": "execute_result",
     "data": {
      "text/plain": [
       "        date  close   volume  changeOverTime  marketChangeOverTime  \\\n",
       "0 2014-07-11  10.86  2059400               0                     0   \n",
       "\n",
       "        label  change  changePercent  \n",
       "0  Jul 11, 14       0              0  "
      ],
      "text/html": "<div>\n<style scoped>\n    .dataframe tbody tr th:only-of-type {\n        vertical-align: middle;\n    }\n\n    .dataframe tbody tr th {\n        vertical-align: top;\n    }\n\n    .dataframe thead th {\n        text-align: right;\n    }\n</style>\n<table border=\"1\" class=\"dataframe\">\n  <thead>\n    <tr style=\"text-align: right;\">\n      <th></th>\n      <th>date</th>\n      <th>close</th>\n      <th>volume</th>\n      <th>changeOverTime</th>\n      <th>marketChangeOverTime</th>\n      <th>label</th>\n      <th>change</th>\n      <th>changePercent</th>\n    </tr>\n  </thead>\n  <tbody>\n    <tr>\n      <th>0</th>\n      <td>2014-07-11</td>\n      <td>10.86</td>\n      <td>2059400</td>\n      <td>0</td>\n      <td>0</td>\n      <td>Jul 11, 14</td>\n      <td>0</td>\n      <td>0</td>\n    </tr>\n  </tbody>\n</table>\n</div>"
     },
     "metadata": {},
     "execution_count": 69
    }
   ],
   "source": [
    "new_df"
   ]
  },
  {
   "cell_type": "code",
   "execution_count": 56,
   "metadata": {},
   "outputs": [
    {
     "output_type": "stream",
     "name": "stdout",
     "text": [
      "Retrieving https://cloud.iexapis.com/stable/stock/ISBC/chart/date/20140718?chartCloseOnly=true&chartByDay=true&token=sk_4ef95fbf49d6435190a7aa47d539e4ed\n",
      "Retrieving https://cloud.iexapis.com/stable/stock/ISBC/chart/date/20140725?chartCloseOnly=true&chartByDay=true&token=sk_4ef95fbf49d6435190a7aa47d539e4ed\n",
      "Retrieving https://cloud.iexapis.com/stable/stock/ISBC/chart/date/20140801?chartCloseOnly=true&chartByDay=true&token=sk_4ef95fbf49d6435190a7aa47d539e4ed\n",
      "Retrieving https://cloud.iexapis.com/stable/stock/ISBC/chart/date/20140808?chartCloseOnly=true&chartByDay=true&token=sk_4ef95fbf49d6435190a7aa47d539e4ed\n"
     ]
    }
   ],
   "source": [
    "%%time\n",
    "for datum in date_range[1:]:\n",
    "    dt = datetime.strftime(datum,format='%Y%m%d')\n",
    "    date_url = f'https://{source}.iexapis.com/stable/stock/{stock}/chart/date/{dt}?chartCloseOnly=true&chartByDay=true&token={tkn}'\n",
    "    print(f'Retrieving {date_url}')\n",
    "    response = request(url=date_url, method='get')\n",
    "    new_df = new_df.append(pd.read_json(response.content))"
   ]
  },
  {
   "cell_type": "code",
   "execution_count": 267,
   "metadata": {},
   "outputs": [],
   "source": [
    "#set the date column to the index\n",
    "df = df.set_index(pd.to_datetime(df.date), format='%Y%d%m')\n",
    "\n",
    "# delete the date value column\n",
    "df = df.drop(columns=['date'])"
   ]
  },
  {
   "cell_type": "code",
   "execution_count": 268,
   "metadata": {},
   "outputs": [],
   "source": [
    "#filter for the correct period\n",
    "df = df.loc[pd.to_datetime(startdate) + pd.offsets.Week(-1):]"
   ]
  },
  {
   "cell_type": "code",
   "execution_count": 269,
   "metadata": {},
   "outputs": [
    {
     "output_type": "execute_result",
     "data": {
      "text/plain": [
       "            close   volume  changeOverTime  marketChangeOverTime       label  \\\n",
       "date                                                                           \n",
       "2020-05-12  8.070  1526327       -0.305508             -0.305508  May 12, 20   \n",
       "2020-05-13  7.600  1561420       -0.345955             -0.345955  May 13, 20   \n",
       "2020-05-14  7.605  2269355       -0.345525             -0.345525  May 14, 20   \n",
       "2020-05-15  7.620  1961884       -0.344234             -0.344234  May 15, 20   \n",
       "2020-05-18  8.390  1522307       -0.277969             -0.277969  May 18, 20   \n",
       "\n",
       "            change  changePercent  \n",
       "date                               \n",
       "2020-05-12  -0.450        -0.0528  \n",
       "2020-05-13  -0.470        -0.0582  \n",
       "2020-05-14   0.005         0.0007  \n",
       "2020-05-15   0.015         0.0020  \n",
       "2020-05-18   0.770         0.1010  "
      ],
      "text/html": "<div>\n<style scoped>\n    .dataframe tbody tr th:only-of-type {\n        vertical-align: middle;\n    }\n\n    .dataframe tbody tr th {\n        vertical-align: top;\n    }\n\n    .dataframe thead th {\n        text-align: right;\n    }\n</style>\n<table border=\"1\" class=\"dataframe\">\n  <thead>\n    <tr style=\"text-align: right;\">\n      <th></th>\n      <th>close</th>\n      <th>volume</th>\n      <th>changeOverTime</th>\n      <th>marketChangeOverTime</th>\n      <th>label</th>\n      <th>change</th>\n      <th>changePercent</th>\n    </tr>\n    <tr>\n      <th>date</th>\n      <th></th>\n      <th></th>\n      <th></th>\n      <th></th>\n      <th></th>\n      <th></th>\n      <th></th>\n    </tr>\n  </thead>\n  <tbody>\n    <tr>\n      <th>2020-05-12</th>\n      <td>8.070</td>\n      <td>1526327</td>\n      <td>-0.305508</td>\n      <td>-0.305508</td>\n      <td>May 12, 20</td>\n      <td>-0.450</td>\n      <td>-0.0528</td>\n    </tr>\n    <tr>\n      <th>2020-05-13</th>\n      <td>7.600</td>\n      <td>1561420</td>\n      <td>-0.345955</td>\n      <td>-0.345955</td>\n      <td>May 13, 20</td>\n      <td>-0.470</td>\n      <td>-0.0582</td>\n    </tr>\n    <tr>\n      <th>2020-05-14</th>\n      <td>7.605</td>\n      <td>2269355</td>\n      <td>-0.345525</td>\n      <td>-0.345525</td>\n      <td>May 14, 20</td>\n      <td>0.005</td>\n      <td>0.0007</td>\n    </tr>\n    <tr>\n      <th>2020-05-15</th>\n      <td>7.620</td>\n      <td>1961884</td>\n      <td>-0.344234</td>\n      <td>-0.344234</td>\n      <td>May 15, 20</td>\n      <td>0.015</td>\n      <td>0.0020</td>\n    </tr>\n    <tr>\n      <th>2020-05-18</th>\n      <td>8.390</td>\n      <td>1522307</td>\n      <td>-0.277969</td>\n      <td>-0.277969</td>\n      <td>May 18, 20</td>\n      <td>0.770</td>\n      <td>0.1010</td>\n    </tr>\n  </tbody>\n</table>\n</div>"
     },
     "metadata": {},
     "execution_count": 269
    }
   ],
   "source": [
    "# check data\n",
    "df.loc['2020-05-12':][:5]"
   ]
  },
  {
   "cell_type": "code",
   "execution_count": 272,
   "metadata": {},
   "outputs": [
    {
     "output_type": "execute_result",
     "data": {
      "text/plain": [
       "'20200515'"
      ]
     },
     "metadata": {},
     "execution_count": 272
    }
   ],
   "source": [
    "startdate"
   ]
  },
  {
   "cell_type": "code",
   "execution_count": 291,
   "metadata": {},
   "outputs": [
    {
     "output_type": "execute_result",
     "data": {
      "text/plain": [
       "Timestamp('2020-05-15 00:00:00')"
      ]
     },
     "metadata": {},
     "execution_count": 291
    }
   ],
   "source": [
    "pd.to_datetime(startdate, infer_datetime_format=True)"
   ]
  },
  {
   "cell_type": "code",
   "execution_count": 316,
   "metadata": {},
   "outputs": [],
   "source": [
    "frequency = f'W-{pd.to_datetime(startdate, infer_datetime_format=True).day_name()[:3]}'"
   ]
  },
  {
   "cell_type": "code",
   "execution_count": 337,
   "metadata": {},
   "outputs": [],
   "source": [
    "# we are looking for a weekly offset\n",
    "offset = pd.offsets.Week(-1)\n",
    "\n",
    "# resample for weekly series\n",
    "\n",
    "\n",
    "res = df.close.loc[pd.to_datetime(startdate)+offset:].resample(frequency,loffset=offset, closed='left').first()"
   ]
  },
  {
   "cell_type": "code",
   "execution_count": 338,
   "metadata": {},
   "outputs": [],
   "source": [
    "res = pd.DataFrame(res)"
   ]
  },
  {
   "cell_type": "code",
   "execution_count": 342,
   "metadata": {},
   "outputs": [],
   "source": [
    "res['chg'] = np.log(res.close/res.close.shift(1))"
   ]
  },
  {
   "cell_type": "code",
   "execution_count": 343,
   "metadata": {},
   "outputs": [
    {
     "output_type": "execute_result",
     "data": {
      "text/plain": [
       "             close       chg\n",
       "date                        \n",
       "2020-05-08   8.850       NaN\n",
       "2020-05-15   7.620 -0.149641\n",
       "2020-05-22   8.190  0.072138\n",
       "2020-05-29   8.680  0.058108\n",
       "2020-06-05   9.700  0.111104\n",
       "2020-06-12   8.570 -0.123858\n",
       "2020-06-19   8.205 -0.043524\n",
       "2020-06-26   7.880 -0.040416\n",
       "2020-07-03   8.190  0.038586\n",
       "2020-07-10   8.100 -0.011050\n",
       "2020-07-17   8.210  0.013489\n",
       "2020-07-24   8.375  0.019898\n",
       "2020-07-31   8.120 -0.030921\n",
       "2020-08-07   8.240  0.014670\n",
       "2020-08-14   8.295  0.006653\n",
       "2020-08-21   7.650 -0.080947\n",
       "2020-08-28   7.870  0.028352\n",
       "2020-09-04   8.230  0.044728\n",
       "2020-09-11   7.725 -0.063324\n",
       "2020-09-18   7.780  0.007095\n",
       "2020-09-25   7.000 -0.105646\n",
       "2020-10-02   7.510  0.070325\n",
       "2020-10-09   7.760  0.032747\n",
       "2020-10-16   7.860  0.012804\n",
       "2020-10-23   8.260  0.049638\n",
       "2020-10-30   8.460  0.023925\n",
       "2020-11-06   8.260 -0.023925\n",
       "2020-11-13   9.170  0.104513\n",
       "2020-11-20   9.580  0.043740\n",
       "2020-11-27   9.940  0.036889\n",
       "2020-12-04  10.420  0.047160\n",
       "2020-12-11  10.260 -0.015474\n",
       "2020-12-18  10.110 -0.014728\n",
       "2020-12-25  10.470  0.034989\n",
       "2021-01-01  10.560  0.008559\n",
       "2021-01-08  11.430  0.079168"
      ],
      "text/html": "<div>\n<style scoped>\n    .dataframe tbody tr th:only-of-type {\n        vertical-align: middle;\n    }\n\n    .dataframe tbody tr th {\n        vertical-align: top;\n    }\n\n    .dataframe thead th {\n        text-align: right;\n    }\n</style>\n<table border=\"1\" class=\"dataframe\">\n  <thead>\n    <tr style=\"text-align: right;\">\n      <th></th>\n      <th>close</th>\n      <th>chg</th>\n    </tr>\n    <tr>\n      <th>date</th>\n      <th></th>\n      <th></th>\n    </tr>\n  </thead>\n  <tbody>\n    <tr>\n      <th>2020-05-08</th>\n      <td>8.850</td>\n      <td>NaN</td>\n    </tr>\n    <tr>\n      <th>2020-05-15</th>\n      <td>7.620</td>\n      <td>-0.149641</td>\n    </tr>\n    <tr>\n      <th>2020-05-22</th>\n      <td>8.190</td>\n      <td>0.072138</td>\n    </tr>\n    <tr>\n      <th>2020-05-29</th>\n      <td>8.680</td>\n      <td>0.058108</td>\n    </tr>\n    <tr>\n      <th>2020-06-05</th>\n      <td>9.700</td>\n      <td>0.111104</td>\n    </tr>\n    <tr>\n      <th>2020-06-12</th>\n      <td>8.570</td>\n      <td>-0.123858</td>\n    </tr>\n    <tr>\n      <th>2020-06-19</th>\n      <td>8.205</td>\n      <td>-0.043524</td>\n    </tr>\n    <tr>\n      <th>2020-06-26</th>\n      <td>7.880</td>\n      <td>-0.040416</td>\n    </tr>\n    <tr>\n      <th>2020-07-03</th>\n      <td>8.190</td>\n      <td>0.038586</td>\n    </tr>\n    <tr>\n      <th>2020-07-10</th>\n      <td>8.100</td>\n      <td>-0.011050</td>\n    </tr>\n    <tr>\n      <th>2020-07-17</th>\n      <td>8.210</td>\n      <td>0.013489</td>\n    </tr>\n    <tr>\n      <th>2020-07-24</th>\n      <td>8.375</td>\n      <td>0.019898</td>\n    </tr>\n    <tr>\n      <th>2020-07-31</th>\n      <td>8.120</td>\n      <td>-0.030921</td>\n    </tr>\n    <tr>\n      <th>2020-08-07</th>\n      <td>8.240</td>\n      <td>0.014670</td>\n    </tr>\n    <tr>\n      <th>2020-08-14</th>\n      <td>8.295</td>\n      <td>0.006653</td>\n    </tr>\n    <tr>\n      <th>2020-08-21</th>\n      <td>7.650</td>\n      <td>-0.080947</td>\n    </tr>\n    <tr>\n      <th>2020-08-28</th>\n      <td>7.870</td>\n      <td>0.028352</td>\n    </tr>\n    <tr>\n      <th>2020-09-04</th>\n      <td>8.230</td>\n      <td>0.044728</td>\n    </tr>\n    <tr>\n      <th>2020-09-11</th>\n      <td>7.725</td>\n      <td>-0.063324</td>\n    </tr>\n    <tr>\n      <th>2020-09-18</th>\n      <td>7.780</td>\n      <td>0.007095</td>\n    </tr>\n    <tr>\n      <th>2020-09-25</th>\n      <td>7.000</td>\n      <td>-0.105646</td>\n    </tr>\n    <tr>\n      <th>2020-10-02</th>\n      <td>7.510</td>\n      <td>0.070325</td>\n    </tr>\n    <tr>\n      <th>2020-10-09</th>\n      <td>7.760</td>\n      <td>0.032747</td>\n    </tr>\n    <tr>\n      <th>2020-10-16</th>\n      <td>7.860</td>\n      <td>0.012804</td>\n    </tr>\n    <tr>\n      <th>2020-10-23</th>\n      <td>8.260</td>\n      <td>0.049638</td>\n    </tr>\n    <tr>\n      <th>2020-10-30</th>\n      <td>8.460</td>\n      <td>0.023925</td>\n    </tr>\n    <tr>\n      <th>2020-11-06</th>\n      <td>8.260</td>\n      <td>-0.023925</td>\n    </tr>\n    <tr>\n      <th>2020-11-13</th>\n      <td>9.170</td>\n      <td>0.104513</td>\n    </tr>\n    <tr>\n      <th>2020-11-20</th>\n      <td>9.580</td>\n      <td>0.043740</td>\n    </tr>\n    <tr>\n      <th>2020-11-27</th>\n      <td>9.940</td>\n      <td>0.036889</td>\n    </tr>\n    <tr>\n      <th>2020-12-04</th>\n      <td>10.420</td>\n      <td>0.047160</td>\n    </tr>\n    <tr>\n      <th>2020-12-11</th>\n      <td>10.260</td>\n      <td>-0.015474</td>\n    </tr>\n    <tr>\n      <th>2020-12-18</th>\n      <td>10.110</td>\n      <td>-0.014728</td>\n    </tr>\n    <tr>\n      <th>2020-12-25</th>\n      <td>10.470</td>\n      <td>0.034989</td>\n    </tr>\n    <tr>\n      <th>2021-01-01</th>\n      <td>10.560</td>\n      <td>0.008559</td>\n    </tr>\n    <tr>\n      <th>2021-01-08</th>\n      <td>11.430</td>\n      <td>0.079168</td>\n    </tr>\n  </tbody>\n</table>\n</div>"
     },
     "metadata": {},
     "execution_count": 343
    }
   ],
   "source": [
    "res"
   ]
  },
  {
   "cell_type": "code",
   "execution_count": 302,
   "metadata": {},
   "outputs": [
    {
     "output_type": "execute_result",
     "data": {
      "text/plain": [
       "            close   volume  changeOverTime  marketChangeOverTime       label  \\\n",
       "date                                                                           \n",
       "2020-05-11  8.520  2389206       -0.266781             -0.266781  May 11, 20   \n",
       "2020-05-12  8.070  1526327       -0.305508             -0.305508  May 12, 20   \n",
       "2020-05-13  7.600  1561420       -0.345955             -0.345955  May 13, 20   \n",
       "2020-05-14  7.605  2269355       -0.345525             -0.345525  May 14, 20   \n",
       "2020-05-15  7.620  1961884       -0.344234             -0.344234  May 15, 20   \n",
       "2020-05-18  8.390  1522307       -0.277969             -0.277969  May 18, 20   \n",
       "2020-05-19  7.970  1014856       -0.314114             -0.314114  May 19, 20   \n",
       "2020-05-20  8.360  1512344       -0.280551             -0.280551  May 20, 20   \n",
       "2020-05-21  8.290   841747       -0.286575             -0.286575  May 21, 20   \n",
       "2020-05-22  8.190   909403       -0.295181             -0.295181  May 22, 20   \n",
       "\n",
       "            change  changePercent  \n",
       "date                               \n",
       "2020-05-11  -0.330        -0.0373  \n",
       "2020-05-12  -0.450        -0.0528  \n",
       "2020-05-13  -0.470        -0.0582  \n",
       "2020-05-14   0.005         0.0007  \n",
       "2020-05-15   0.015         0.0020  \n",
       "2020-05-18   0.770         0.1010  \n",
       "2020-05-19  -0.420        -0.0501  \n",
       "2020-05-20   0.390         0.0489  \n",
       "2020-05-21  -0.070        -0.0084  \n",
       "2020-05-22  -0.100        -0.0121  "
      ],
      "text/html": "<div>\n<style scoped>\n    .dataframe tbody tr th:only-of-type {\n        vertical-align: middle;\n    }\n\n    .dataframe tbody tr th {\n        vertical-align: top;\n    }\n\n    .dataframe thead th {\n        text-align: right;\n    }\n</style>\n<table border=\"1\" class=\"dataframe\">\n  <thead>\n    <tr style=\"text-align: right;\">\n      <th></th>\n      <th>close</th>\n      <th>volume</th>\n      <th>changeOverTime</th>\n      <th>marketChangeOverTime</th>\n      <th>label</th>\n      <th>change</th>\n      <th>changePercent</th>\n    </tr>\n    <tr>\n      <th>date</th>\n      <th></th>\n      <th></th>\n      <th></th>\n      <th></th>\n      <th></th>\n      <th></th>\n      <th></th>\n    </tr>\n  </thead>\n  <tbody>\n    <tr>\n      <th>2020-05-11</th>\n      <td>8.520</td>\n      <td>2389206</td>\n      <td>-0.266781</td>\n      <td>-0.266781</td>\n      <td>May 11, 20</td>\n      <td>-0.330</td>\n      <td>-0.0373</td>\n    </tr>\n    <tr>\n      <th>2020-05-12</th>\n      <td>8.070</td>\n      <td>1526327</td>\n      <td>-0.305508</td>\n      <td>-0.305508</td>\n      <td>May 12, 20</td>\n      <td>-0.450</td>\n      <td>-0.0528</td>\n    </tr>\n    <tr>\n      <th>2020-05-13</th>\n      <td>7.600</td>\n      <td>1561420</td>\n      <td>-0.345955</td>\n      <td>-0.345955</td>\n      <td>May 13, 20</td>\n      <td>-0.470</td>\n      <td>-0.0582</td>\n    </tr>\n    <tr>\n      <th>2020-05-14</th>\n      <td>7.605</td>\n      <td>2269355</td>\n      <td>-0.345525</td>\n      <td>-0.345525</td>\n      <td>May 14, 20</td>\n      <td>0.005</td>\n      <td>0.0007</td>\n    </tr>\n    <tr>\n      <th>2020-05-15</th>\n      <td>7.620</td>\n      <td>1961884</td>\n      <td>-0.344234</td>\n      <td>-0.344234</td>\n      <td>May 15, 20</td>\n      <td>0.015</td>\n      <td>0.0020</td>\n    </tr>\n    <tr>\n      <th>2020-05-18</th>\n      <td>8.390</td>\n      <td>1522307</td>\n      <td>-0.277969</td>\n      <td>-0.277969</td>\n      <td>May 18, 20</td>\n      <td>0.770</td>\n      <td>0.1010</td>\n    </tr>\n    <tr>\n      <th>2020-05-19</th>\n      <td>7.970</td>\n      <td>1014856</td>\n      <td>-0.314114</td>\n      <td>-0.314114</td>\n      <td>May 19, 20</td>\n      <td>-0.420</td>\n      <td>-0.0501</td>\n    </tr>\n    <tr>\n      <th>2020-05-20</th>\n      <td>8.360</td>\n      <td>1512344</td>\n      <td>-0.280551</td>\n      <td>-0.280551</td>\n      <td>May 20, 20</td>\n      <td>0.390</td>\n      <td>0.0489</td>\n    </tr>\n    <tr>\n      <th>2020-05-21</th>\n      <td>8.290</td>\n      <td>841747</td>\n      <td>-0.286575</td>\n      <td>-0.286575</td>\n      <td>May 21, 20</td>\n      <td>-0.070</td>\n      <td>-0.0084</td>\n    </tr>\n    <tr>\n      <th>2020-05-22</th>\n      <td>8.190</td>\n      <td>909403</td>\n      <td>-0.295181</td>\n      <td>-0.295181</td>\n      <td>May 22, 20</td>\n      <td>-0.100</td>\n      <td>-0.0121</td>\n    </tr>\n  </tbody>\n</table>\n</div>"
     },
     "metadata": {},
     "execution_count": 302
    }
   ],
   "source": [
    "df.loc['2020-5-10':][:10]"
   ]
  },
  {
   "cell_type": "code",
   "execution_count": 225,
   "metadata": {},
   "outputs": [
    {
     "output_type": "execute_result",
     "data": {
      "text/plain": [
       "date\n",
       "2020-10-14    7.86\n",
       "2020-10-21    7.87\n",
       "2020-10-28    8.19\n",
       "2020-11-04    8.47\n",
       "2020-11-11    9.30\n",
       "Freq: W-WED, Name: close, dtype: float64"
      ]
     },
     "metadata": {},
     "execution_count": 225
    }
   ],
   "source": [
    "res.head()"
   ]
  },
  {
   "cell_type": "code",
   "execution_count": 163,
   "metadata": {},
   "outputs": [
    {
     "output_type": "execute_result",
     "data": {
      "text/plain": [
       "Index(['Friday', 'Friday', 'Friday', 'Friday', 'Friday', 'Friday', 'Friday',\n",
       "       'Friday', 'Friday', 'Friday',\n",
       "       ...\n",
       "       'Friday', 'Friday', 'Friday', 'Friday', 'Friday', 'Friday', 'Friday',\n",
       "       'Friday', 'Friday', 'Friday'],\n",
       "      dtype='object', name='date', length=261)"
      ]
     },
     "metadata": {},
     "execution_count": 163
    }
   ],
   "source": [
    "res[]"
   ]
  },
  {
   "cell_type": "code",
   "execution_count": null,
   "metadata": {},
   "outputs": [],
   "source": []
  }
 ]
}