{
 "cells": [
  {
   "cell_type": "code",
   "execution_count": 90,
   "metadata": {},
   "outputs": [
    {
     "output_type": "stream",
     "name": "stdout",
     "text": [
      "The autoreload extension is already loaded. To reload it, use:\n  %reload_ext autoreload\n"
     ]
    }
   ],
   "source": [
    "import param\n",
    "\n",
    "import numpy as np\n",
    "import pandas as pd\n",
    "import seaborn as sns\n",
    "\n",
    "from hvplot import pandas\n",
    "import panel as pn\n",
    "\n",
    "from black_scholes_merton import BSMoption\n",
    "\n",
    "pn.extension(comms='vscode')\n",
    "\n",
    "%load_ext autoreload\n",
    "%autoreload 2"
   ]
  },
  {
   "cell_type": "code",
   "execution_count": 357,
   "metadata": {},
   "outputs": [],
   "source": [
    "import panel.widgets as pnw\n",
    "from black_scholes_merton import BSMoption\n",
    "\n",
    "spot = pnw.FloatInput(name='Spot',value=20.00)\n",
    "exercise = pnw.FloatInput(name='Exercise', value=20.00)\n",
    "volatility = pnw.FloatInput(name='Vol (%)',value=20.00)\n",
    "rate = pnw.FloatInput(name='Risk-free Rate', value=5.00)\n",
    "time = pnw.FloatInput(name='Time (in yrs.)', value=round(1/12,5))\n",
    "dividend_rate = pnw.FloatInput(name='Dividend Rate',value=0.0)\n",
    "refresh_button = pnw.Button(name='Calculate', button_type='primary')\n",
    "\n",
    "call_value = pnw.StaticText(name=\"Call Price\", value='')\n",
    "put_value = pnw.StaticText(name=\"Put Price\", value='')\n",
    "\n",
    "spot_value = pnw.StaticText(name=\"Spot\")\n",
    "exercise_value = pnw.StaticText(name='Exercise')\n",
    "volatility_value = pnw.StaticText(name='Vol (%)')\n",
    "rate_value = pnw.StaticText(name='Rate')\n",
    "time_value = pnw.StaticText(name='Time')\n",
    "dividend_rate_value = pnw.StaticText(name='Dividend Rate (%)')\n",
    "\n",
    "def get_option_prices(spot,\n",
    "                        exercise,\n",
    "                        volatility,\n",
    "                        rate,\n",
    "                        time,\n",
    "                        dividend_rate):\n",
    "\n",
    "    myOpt = BSMoption(spot=spot, exercise=exercise, sigma=volatility, time=time, rate=rate, dividend_rate=dividend_rate)\n",
    "\n",
    "    return myOpt.black_scholes_call(), myOpt.black_scholes_put()\n",
    "def refresh_calcs():\n",
    "    call, put = get_option_prices(spot.value, \n",
    "                            exercise.value, \n",
    "                            volatility.value/100, \n",
    "                            rate.value/100,\n",
    "                            time.value, \n",
    "                            dividend_rate.value/100)\n",
    "\n",
    "    call_value.value = round(call,2)\n",
    "    put_value.value = round(put,2)\n",
    "\n",
    "    spot_value.value = spot.value\n",
    "    exercise_value.value = exercise.value\n",
    "    volatility_value.value = volatility.value\n",
    "    rate_value.value = rate.value\n",
    "    time_value.value = time.value\n",
    "    dividend_rate_value.value = dividend_rate.value\n",
    "\n",
    "    calced_vals = pn.Column(\n",
    "    spot_value,\n",
    "    exercise_value,\n",
    "    volatility_value,\n",
    "    time_value,\n",
    "    rate_value,\n",
    "    dividend_rate_value,\n",
    "    )\n",
    "\n",
    "def button_event(event):\n",
    "    refresh_calcs()\n",
    "    \n",
    "    #text.value = 'Clicked {0} times'.format(refresh_button.clicks)\n",
    "\n",
    "\n",
    "refresh_button.on_click(button_event)\n",
    "#refresh_calcs()"
   ]
  },
  {
   "cell_type": "code",
   "execution_count": 360,
   "metadata": {},
   "outputs": [],
   "source": [
    "row1 = pn.Row(spot, exercise)\n",
    "row2 = pn.Row(volatility, time)\n",
    "row3 = pn.Row(rate, dividend_rate)\n",
    "\n",
    "output_row = pn.Row(call_value, put_value)\n",
    "\n",
    "col1 = pn.Column(row1,\n",
    "                row2,\n",
    "                row3, \n",
    "                refresh_button,\n",
    "                output_row)\n",
    "\n",
    "calced_vals = pn.Column(\n",
    "    spot_value,\n",
    "    exercise_value,\n",
    "    volatility_value,\n",
    "    time_value,\n",
    "    rate_value,\n",
    "    dividend_rate_value\n",
    ")\n",
    "\n",
    "@pn.depends(spot.param.value)\n",
    "def calced_vals_object(x):\n",
    "    #calced_vals.background = '#FFFFFF'\n",
    "    #if spot_value.value != spot.value: calced_vals.background = '#000000'\n",
    "    #if spot_value.value == spot.value: calced_vals.background = '#f9f9f9'\n",
    "\n",
    "\n",
    "\n",
    "    return calced_vals\n",
    "\n",
    "myPanel = pn.Row(col1, calced_vals_object)"
   ]
  },
  {
   "cell_type": "code",
   "execution_count": 361,
   "metadata": {},
   "outputs": [
    {
     "output_type": "display_data",
     "data": {
      "text/plain": "BokehModel(combine_events=True, render_bundle={'docs_json': {'252ff17e-2c1f-43b9-a8eb-3abe0eafe197': {'roots':…",
      "application/vnd.jupyter.widget-view+json": {
       "version_major": 2,
       "version_minor": 0,
       "model_id": "d4f699b11b354e45a2d5a4adc35a31ae"
      }
     },
     "metadata": {}
    },
    {
     "output_type": "execute_result",
     "data": {
      "text/html": "<div style=\"display: none\"></div>",
      "text/plain": [
       "Row\n",
       "    [0] Column\n",
       "        [0] Row\n",
       "            [0] FloatInput(name='Spot', value=19.7, value_throttled=19.7)\n",
       "            [1] FloatInput(name='Exercise', value=20.0, value_throttled=20.0)\n",
       "        [1] Row\n",
       "            [0] FloatInput(name='Vol (%)', value=20.0, value_throttled=20)\n",
       "            [1] FloatInput(name='Time (in yrs.)', value=0.08333, value_throttled=0.08333)\n",
       "        [2] Row\n",
       "            [0] FloatInput(name='Risk-free Rate', value=5.0, value_throttled=5)\n",
       "            [1] FloatInput(name='Dividend Rate', value_throttled=0.0)\n",
       "        [3] Button(button_type='primary', clicks=1, name='Calculate')\n",
       "        [4] Row\n",
       "            [0] StaticText(name='Call Price', value=0.68)\n",
       "            [1] StaticText(name='Put Price', value=0.3)\n",
       "    [1] ParamFunction(function)"
      ]
     },
     "metadata": {},
     "execution_count": 361
    }
   ],
   "source": [
    "myPanel.servable()"
   ]
  }
 ],
 "metadata": {
  "kernelspec": {
   "name": "python3",
   "display_name": "Python 3.9.1 64-bit ('ab': conda)",
   "metadata": {
    "interpreter": {
     "hash": "59eb22a057ebe341dccf7fb048987eb9c24512365df8bfbce77e4d41388a320e"
    }
   }
  },
  "language_info": {
   "codemirror_mode": {
    "name": "ipython",
    "version": 3
   },
   "file_extension": ".py",
   "mimetype": "text/x-python",
   "name": "python",
   "nbconvert_exporter": "python",
   "pygments_lexer": "ipython3",
   "version": "3.9.1-final"
  }
 },
 "nbformat": 4,
 "nbformat_minor": 4
}