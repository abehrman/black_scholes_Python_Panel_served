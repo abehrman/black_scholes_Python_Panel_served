{
 "cells": [
  {
   "cell_type": "code",
   "execution_count": 90,
   "metadata": {},
   "outputs": [
    {
     "output_type": "stream",
     "name": "stdout",
     "text": [
      "The autoreload extension is already loaded. To reload it, use:\n  %reload_ext autoreload\n"
     ]
    }
   ],
   "source": [
    "import param\n",
    "\n",
    "import numpy as np\n",
    "import pandas as pd\n",
    "import seaborn as sns\n",
    "\n",
    "from hvplot import pandas\n",
    "import panel as pn\n",
    "\n",
    "from black_scholes_merton import BSMoption\n",
    "\n",
    "pn.extension(comms='vscode')\n",
    "\n",
    "%load_ext autoreload\n",
    "%autoreload 2"
   ]
  },
  {
   "cell_type": "code",
   "execution_count": 357,
   "metadata": {},
   "outputs": [],
   "source": [
    "import panel.widgets as pnw\n",
    "from black_scholes_merton import BSMoption\n",
    "\n",
    "spot = pnw.FloatInput(name='Spot',value=20.00)\n",
    "exercise = pnw.FloatInput(name='Exercise', value=20.00)\n",
    "volatility = pnw.FloatInput(name='Vol (%)',value=20.00)\n",
    "rate = pnw.FloatInput(name='Risk-free Rate', value=5.00)\n",
    "time = pnw.FloatInput(name='Time (in yrs.)', value=round(1/12,5))\n",
    "dividend_rate = pnw.FloatInput(name='Dividend Rate',value=0.0)\n",
    "refresh_button = pnw.Button(name='Calculate', button_type='primary')\n",
    "\n",
    "call_value = pnw.StaticText(name=\"Call Price\", value='')\n",
    "put_value = pnw.StaticText(name=\"Put Price\", value='')\n",
    "\n",
    "spot_value = pnw.StaticText(name=\"Spot\")\n",
    "exercise_value = pnw.StaticText(name='Exercise')\n",
    "volatility_value = pnw.StaticText(name='Vol (%)')\n",
    "rate_value = pnw.StaticText(name='Rate')\n",
    "time_value = pnw.StaticText(name='Time')\n",
    "dividend_rate_value = pnw.StaticText(name='Dividend Rate (%)')\n",
    "\n",
    "def get_option_prices(spot,\n",
    "                        exercise,\n",
    "                        volatility,\n",
    "                        rate,\n",
    "                        time,\n",
    "                        dividend_rate):\n",
    "\n",
    "    myOpt = BSMoption(spot=spot, exercise=exercise, sigma=volatility, time=time, rate=rate, dividend_rate=dividend_rate)\n",
    "\n",
    "    return myOpt.black_scholes_call(), myOpt.black_scholes_put()\n",
    "def refresh_calcs():\n",
    "    call, put = get_option_prices(spot.value, \n",
    "                            exercise.value, \n",
    "                            volatility.value/100, \n",
    "                            rate.value/100,\n",
    "                            time.value, \n",
    "                            dividend_rate.value/100)\n",
    "\n",
    "    call_value.value = round(call,2)\n",
    "    put_value.value = round(put,2)\n",
    "\n",
    "    spot_value.value = spot.value\n",
    "    exercise_value.value = exercise.value\n",
    "    volatility_value.value = volatility.value\n",
    "    rate_value.value = rate.value\n",
    "    time_value.value = time.value\n",
    "    dividend_rate_value.value = dividend_rate.value\n",
    "\n",
    "    calced_vals = pn.Column(\n",
    "    spot_value,\n",
    "    exercise_value,\n",
    "    volatility_value,\n",
    "    time_value,\n",
    "    rate_value,\n",
    "    dividend_rate_value,\n",
    "    )\n",
    "\n",
    "def button_event(event):\n",
    "    refresh_calcs()\n",
    "    \n",
    "    #text.value = 'Clicked {0} times'.format(refresh_button.clicks)\n",
    "\n",
    "\n",
    "refresh_button.on_click(button_event)\n",
    "#refresh_calcs()"
   ]
  },
  {
   "cell_type": "code",
   "execution_count": 360,
   "metadata": {},
   "outputs": [],
   "source": [
    "row1 = pn.Row(spot, exercise)\n",
    "row2 = pn.Row(volatility, time)\n",
    "row3 = pn.Row(rate, dividend_rate)\n",
    "\n",
    "output_row = pn.Row(call_value, put_value)\n",
    "\n",
    "col1 = pn.Column(row1,\n",
    "                row2,\n",
    "                row3, \n",
    "                refresh_button,\n",
    "                output_row)\n",
    "\n",
    "calced_vals = pn.Column(\n",
    "    spot_value,\n",
    "    exercise_value,\n",
    "    volatility_value,\n",
    "    time_value,\n",
    "    rate_value,\n",
    "    dividend_rate_value\n",
    ")\n",
    "\n",
    "@pn.depends(spot.param.value)\n",
    "def calced_vals_object(x):\n",
    "    #calced_vals.background = '#FFFFFF'\n",
    "    if spot_value.value != spot.value: calced_vals.background = '#000000'\n",
    "    if spot_value.value == spot.value: calced_vals.background = '#f9f9f9'\n",
    "\n",
    "\n",
    "\n",
    "    return calced_vals\n",
    "\n",
    "myPanel = pn.Row(col1, calced_vals_object)"
   ]
  },
  {
   "cell_type": "code",
   "execution_count": 361,
   "metadata": {},
   "outputs": [
    {
     "output_type": "display_data",
     "data": {
      "text/plain": "BokehModel(combine_events=True, render_bundle={'docs_json': {'252ff17e-2c1f-43b9-a8eb-3abe0eafe197': {'roots':…",
      "application/vnd.jupyter.widget-view+json": {
       "version_major": 2,
       "version_minor": 0,
       "model_id": "d4f699b11b354e45a2d5a4adc35a31ae"
      }
     },
     "metadata": {}
    },
    {
     "output_type": "execute_result",
     "data": {
      "text/html": "<div style=\"display: none\"></div>",
      "text/plain": [
       "Row\n",
       "    [0] Column\n",
       "        [0] Row\n",
       "            [0] FloatInput(name='Spot', value=19.7, value_throttled=19.7)\n",
       "            [1] FloatInput(name='Exercise', value=20.0, value_throttled=20.0)\n",
       "        [1] Row\n",
       "            [0] FloatInput(name='Vol (%)', value=20.0, value_throttled=20)\n",
       "            [1] FloatInput(name='Time (in yrs.)', value=0.08333, value_throttled=0.08333)\n",
       "        [2] Row\n",
       "            [0] FloatInput(name='Risk-free Rate', value=5.0, value_throttled=5)\n",
       "            [1] FloatInput(name='Dividend Rate', value_throttled=0.0)\n",
       "        [3] Button(button_type='primary', clicks=1, name='Calculate')\n",
       "        [4] Row\n",
       "            [0] StaticText(name='Call Price', value=0.68)\n",
       "            [1] StaticText(name='Put Price', value=0.3)\n",
       "    [1] ParamFunction(function)"
      ]
     },
     "metadata": {},
     "execution_count": 361
    }
   ],
   "source": [
    "myPanel.servable()"
   ]
  },
  {
   "cell_type": "code",
   "execution_count": 259,
   "metadata": {},
   "outputs": [
    {
     "output_type": "display_data",
     "data": {
      "text/plain": "BokehModel(combine_events=True, render_bundle={'docs_json': {'834f8f03-e3cf-46b0-a562-258fd8352304': {'roots':…",
      "application/vnd.jupyter.widget-view+json": {
       "version_major": 2,
       "version_minor": 0,
       "model_id": "c2de91bcbe31462a830d0b771be17962"
      }
     },
     "metadata": {}
    },
    {
     "output_type": "execute_result",
     "data": {
      "text/html": "<div style=\"display: none\"></div>",
      "text/plain": [
       "FloatInput(name='Spot', value=20.0, value_throttled=20.0)"
      ]
     },
     "metadata": {},
     "execution_count": 259
    }
   ],
   "source": [
    "spot"
   ]
  },
  {
   "cell_type": "code",
   "execution_count": 260,
   "metadata": {},
   "outputs": [
    {
     "output_type": "display_data",
     "data": {
      "text/plain": "BokehModel(combine_events=True, render_bundle={'docs_json': {'e4429422-c1da-490c-b8c3-4ae161971af3': {'roots':…",
      "application/vnd.jupyter.widget-view+json": {
       "version_major": 2,
       "version_minor": 0,
       "model_id": "01d069649b974f5aaae92d6d85099980"
      }
     },
     "metadata": {}
    },
    {
     "output_type": "execute_result",
     "data": {
      "text/html": "<div style=\"display: none\"></div>",
      "text/plain": [
       "FloatInput(name='Exercise', value=20.0, value_throttled=20.0)"
      ]
     },
     "metadata": {},
     "execution_count": 260
    }
   ],
   "source": [
    "exercise"
   ]
  },
  {
   "cell_type": "code",
   "execution_count": 261,
   "metadata": {},
   "outputs": [],
   "source": [
    "@pn.depends(spot.param.value)\n",
    "def update_spot(x):\n",
    "    exercise.value = x"
   ]
  },
  {
   "cell_type": "code",
   "execution_count": 262,
   "metadata": {},
   "outputs": [],
   "source": [
    "exercise.value = 10"
   ]
  },
  {
   "cell_type": "code",
   "execution_count": 263,
   "metadata": {},
   "outputs": [],
   "source": [
    "my_new_spot = pnw.TextInput(name='Text',value='Ready')\n",
    "my2 = pnw.TextInput(name='Text2',value='')"
   ]
  },
  {
   "cell_type": "code",
   "execution_count": 265,
   "metadata": {},
   "outputs": [
    {
     "output_type": "display_data",
     "data": {
      "text/plain": "BokehModel(combine_events=True, render_bundle={'docs_json': {'928096b5-753f-48ba-b2f2-17f54f5b5ba5': {'roots':…",
      "application/vnd.jupyter.widget-view+json": {
       "version_major": 2,
       "version_minor": 0,
       "model_id": "0c9a44b9bc864cc1b1c21f9d262895fd"
      }
     },
     "metadata": {}
    },
    {
     "output_type": "execute_result",
     "data": {
      "text/html": "<div style=\"display: none\"></div>",
      "text/plain": [
       "Row\n",
       "    [0] TextInput(name='Text', value='Ready')\n",
       "    [1] TextInput(name='Text2')"
      ]
     },
     "metadata": {},
     "execution_count": 265
    }
   ],
   "source": [
    "pn.Row(my_new_spot, my2)"
   ]
  },
  {
   "cell_type": "code",
   "execution_count": 266,
   "metadata": {},
   "outputs": [],
   "source": [
    "@pn.depends(my_new_spot.param.value)\n",
    "def update_text(x):\n",
    "    my2.value = x"
   ]
  },
  {
   "cell_type": "code",
   "execution_count": 267,
   "metadata": {},
   "outputs": [
    {
     "output_type": "display_data",
     "data": {
      "text/plain": "BokehModel(combine_events=True, render_bundle={'docs_json': {'6723130e-d3d4-4bdb-87ff-742411640909': {'roots':…",
      "application/vnd.jupyter.widget-view+json": {
       "version_major": 2,
       "version_minor": 0,
       "model_id": "0b0137d375b84996b6ae7349112931ca"
      }
     },
     "metadata": {}
    },
    {
     "output_type": "execute_result",
     "data": {
      "text/html": "<div style=\"display: none\"></div>",
      "text/plain": [
       "Row\n",
       "    [0] TextInput(name='Text')\n",
       "    [1] TextInput(name='Text2')"
      ]
     },
     "metadata": {},
     "execution_count": 267
    }
   ],
   "source": [
    "pn.Row(my_new_spot, my2)"
   ]
  },
  {
   "cell_type": "code",
   "execution_count": 268,
   "metadata": {},
   "outputs": [],
   "source": [
    "selector = pnw.RadioButtonGroup(name='Radios',options=['A','b','c'])"
   ]
  },
  {
   "cell_type": "code",
   "execution_count": 285,
   "metadata": {},
   "outputs": [],
   "source": [
    "@pn.depends(selector.value)\n",
    "def update_text(x):\n",
    "    my2.value = '10'"
   ]
  },
  {
   "cell_type": "code",
   "execution_count": 286,
   "metadata": {},
   "outputs": [
    {
     "output_type": "display_data",
     "data": {
      "text/plain": "BokehModel(combine_events=True, render_bundle={'docs_json': {'c0798de7-5206-4191-a993-5718def71e90': {'roots':…",
      "application/vnd.jupyter.widget-view+json": {
       "version_major": 2,
       "version_minor": 0,
       "model_id": "96f461d5638e42c980dede0ecbb924a3"
      }
     },
     "metadata": {}
    },
    {
     "output_type": "execute_result",
     "data": {
      "text/html": "<div style=\"display: none\"></div>",
      "text/plain": [
       "Row\n",
       "    [0] RadioButtonGroup(name='Radios', options=['A', 'b', 'c'], value='c')\n",
       "    [1] TextInput(name='Text2', value='10')"
      ]
     },
     "metadata": {},
     "execution_count": 286
    }
   ],
   "source": [
    "pn.Row(selector, my2)"
   ]
  },
  {
   "cell_type": "code",
   "execution_count": 280,
   "metadata": {},
   "outputs": [],
   "source": [
    "my2.param.value = 10"
   ]
  },
  {
   "cell_type": "code",
   "execution_count": 281,
   "metadata": {},
   "outputs": [
    {
     "output_type": "display_data",
     "data": {
      "text/plain": "BokehModel(combine_events=True, render_bundle={'docs_json': {'42616358-1d2f-4e73-a650-dadc6605df01': {'roots':…",
      "application/vnd.jupyter.widget-view+json": {
       "version_major": 2,
       "version_minor": 0,
       "model_id": "60a63870fc6146338dff0444b7e196cc"
      }
     },
     "metadata": {}
    },
    {
     "output_type": "execute_result",
     "data": {
      "text/html": "<div style=\"display: none\"></div>",
      "text/plain": [
       "TextInput(name='Text2')"
      ]
     },
     "metadata": {},
     "execution_count": 281
    }
   ],
   "source": [
    "my2"
   ]
  },
  {
   "cell_type": "code",
   "execution_count": 284,
   "metadata": {},
   "outputs": [],
   "source": [
    "my2.value='10'"
   ]
  },
  {
   "cell_type": "code",
   "execution_count": 311,
   "metadata": {},
   "outputs": [
    {
     "output_type": "display_data",
     "data": {
      "text/plain": "BokehModel(combine_events=True, render_bundle={'docs_json': {'1057d916-3618-41a4-86c4-975e543d3a01': {'roots':…",
      "application/vnd.jupyter.widget-view+json": {
       "version_major": 2,
       "version_minor": 0,
       "model_id": "7413a63ce3d846f1a533e68fa8a2d96d"
      }
     },
     "metadata": {}
    },
    {
     "output_type": "execute_result",
     "data": {
      "text/html": "<div style=\"display: none\"></div>",
      "text/plain": [
       "Row\n",
       "    [0] ParamFunction(function)\n",
       "    [1] Column\n",
       "        [0] Markdown(str)\n",
       "        [1] RadioButtonGroup(name='variable', options=['a', 'b'])\n",
       "        [2] IntSlider(end=60, name='window', start=1, value=10, value_throttled=10)"
      ]
     },
     "metadata": {},
     "execution_count": 311
    }
   ],
   "source": [
    "import panel.widgets as pnw\n",
    "\n",
    "variable  = pnw.RadioButtonGroup(name='variable', value='Temperature', \n",
    "                                 options=['a','b'])\n",
    "window  = pnw.IntSlider(name='window', value=10, start=1, end=60)\n",
    "\n",
    "output = pnw.TextInput(name='output',value='')\n",
    "\n",
    "@pn.depends(variable, window)\n",
    "def reactive_outliers(variable, window):\n",
    "    return pnw.TextInput(name='output',value=variable, background='#000000')\n",
    "\n",
    "widgets   = pn.Column(\"<br>\\n# Room occupancy\", variable, window)\n",
    "occupancy = pn.Row(reactive_outliers, widgets)\n",
    "occupancy"
   ]
  },
  {
   "cell_type": "code",
   "execution_count": null,
   "metadata": {},
   "outputs": [],
   "source": []
  },
  {
   "cell_type": "code",
   "execution_count": null,
   "metadata": {},
   "outputs": [],
   "source": []
  }
 ],
 "metadata": {
  "kernelspec": {
   "name": "python3",
   "display_name": "Python 3.9.1 64-bit ('ab': conda)",
   "metadata": {
    "interpreter": {
     "hash": "59eb22a057ebe341dccf7fb048987eb9c24512365df8bfbce77e4d41388a320e"
    }
   }
  },
  "language_info": {
   "codemirror_mode": {
    "name": "ipython",
    "version": 3
   },
   "file_extension": ".py",
   "mimetype": "text/x-python",
   "name": "python",
   "nbconvert_exporter": "python",
   "pygments_lexer": "ipython3",
   "version": "3.9.1-final"
  }
 },
 "nbformat": 4,
 "nbformat_minor": 4
}